{
 "cells": [
  {
   "cell_type": "markdown",
   "id": "b523c13e",
   "metadata": {},
   "source": [
    "## Model Training"
   ]
  },
  {
   "cell_type": "markdown",
   "id": "849f65d0",
   "metadata": {},
   "source": [
    "### Importing required libraries "
   ]
  },
  {
   "cell_type": "code",
   "execution_count": 77,
   "id": "b02c9339",
   "metadata": {},
   "outputs": [],
   "source": [
    "import numpy as np\n",
    "import pandas as pd \n",
    "import matplotlib.pyplot as plt\n",
    "import seaborn as sns\n",
    "#modeling\n",
    "from sklearn.metrics import mean_squared_error,r2_score,mean_absolute_error\n",
    "from sklearn.neighbors import KNeighborsRegressor\n",
    "from sklearn.tree import DecisionTreeRegressor\n",
    "from sklearn.ensemble import RandomForestRegressor,AdaBoostRegressor\n",
    "from sklearn.linear_model import LinearRegression,Ridge,Lasso\n",
    "from sklearn.svm import SVR\n",
    "from sklearn.model_selection import RandomizedSearchCV\n",
    "from catboost import CatBoostRegressor\n",
    "from xgboost import XGBRegressor\n",
    "import warnings"
   ]
  },
  {
   "cell_type": "markdown",
   "id": "28b8172e",
   "metadata": {},
   "source": [
    "### import CSV as Datafreame"
   ]
  },
  {
   "cell_type": "code",
   "execution_count": 78,
   "id": "f272bfbe",
   "metadata": {},
   "outputs": [],
   "source": [
    "df = pd.read_csv('data/stud.csv')"
   ]
  },
  {
   "cell_type": "markdown",
   "id": "c7aedfb4",
   "metadata": {},
   "source": [
    "### preparing X and y variables"
   ]
  },
  {
   "cell_type": "code",
   "execution_count": 79,
   "id": "cc413eca",
   "metadata": {},
   "outputs": [],
   "source": [
    "X = df.drop(columns=['math_score'],axis=1)"
   ]
  },
  {
   "cell_type": "code",
   "execution_count": 80,
   "id": "97d34e99",
   "metadata": {},
   "outputs": [],
   "source": [
    "y=df['math_score']"
   ]
  },
  {
   "cell_type": "code",
   "execution_count": 81,
   "id": "f75e991c",
   "metadata": {},
   "outputs": [
    {
     "data": {
      "text/html": [
       "<div>\n",
       "<style scoped>\n",
       "    .dataframe tbody tr th:only-of-type {\n",
       "        vertical-align: middle;\n",
       "    }\n",
       "\n",
       "    .dataframe tbody tr th {\n",
       "        vertical-align: top;\n",
       "    }\n",
       "\n",
       "    .dataframe thead th {\n",
       "        text-align: right;\n",
       "    }\n",
       "</style>\n",
       "<table border=\"1\" class=\"dataframe\">\n",
       "  <thead>\n",
       "    <tr style=\"text-align: right;\">\n",
       "      <th></th>\n",
       "      <th>gender</th>\n",
       "      <th>race_ethnicity</th>\n",
       "      <th>parental_level_of_education</th>\n",
       "      <th>lunch</th>\n",
       "      <th>test_preparation_course</th>\n",
       "      <th>reading_score</th>\n",
       "      <th>writing_score</th>\n",
       "    </tr>\n",
       "  </thead>\n",
       "  <tbody>\n",
       "    <tr>\n",
       "      <th>0</th>\n",
       "      <td>female</td>\n",
       "      <td>group B</td>\n",
       "      <td>bachelor's degree</td>\n",
       "      <td>standard</td>\n",
       "      <td>none</td>\n",
       "      <td>72</td>\n",
       "      <td>74</td>\n",
       "    </tr>\n",
       "    <tr>\n",
       "      <th>1</th>\n",
       "      <td>female</td>\n",
       "      <td>group C</td>\n",
       "      <td>some college</td>\n",
       "      <td>standard</td>\n",
       "      <td>completed</td>\n",
       "      <td>90</td>\n",
       "      <td>88</td>\n",
       "    </tr>\n",
       "    <tr>\n",
       "      <th>2</th>\n",
       "      <td>female</td>\n",
       "      <td>group B</td>\n",
       "      <td>master's degree</td>\n",
       "      <td>standard</td>\n",
       "      <td>none</td>\n",
       "      <td>95</td>\n",
       "      <td>93</td>\n",
       "    </tr>\n",
       "    <tr>\n",
       "      <th>3</th>\n",
       "      <td>male</td>\n",
       "      <td>group A</td>\n",
       "      <td>associate's degree</td>\n",
       "      <td>free/reduced</td>\n",
       "      <td>none</td>\n",
       "      <td>57</td>\n",
       "      <td>44</td>\n",
       "    </tr>\n",
       "    <tr>\n",
       "      <th>4</th>\n",
       "      <td>male</td>\n",
       "      <td>group C</td>\n",
       "      <td>some college</td>\n",
       "      <td>standard</td>\n",
       "      <td>none</td>\n",
       "      <td>78</td>\n",
       "      <td>75</td>\n",
       "    </tr>\n",
       "    <tr>\n",
       "      <th>...</th>\n",
       "      <td>...</td>\n",
       "      <td>...</td>\n",
       "      <td>...</td>\n",
       "      <td>...</td>\n",
       "      <td>...</td>\n",
       "      <td>...</td>\n",
       "      <td>...</td>\n",
       "    </tr>\n",
       "    <tr>\n",
       "      <th>995</th>\n",
       "      <td>female</td>\n",
       "      <td>group E</td>\n",
       "      <td>master's degree</td>\n",
       "      <td>standard</td>\n",
       "      <td>completed</td>\n",
       "      <td>99</td>\n",
       "      <td>95</td>\n",
       "    </tr>\n",
       "    <tr>\n",
       "      <th>996</th>\n",
       "      <td>male</td>\n",
       "      <td>group C</td>\n",
       "      <td>high school</td>\n",
       "      <td>free/reduced</td>\n",
       "      <td>none</td>\n",
       "      <td>55</td>\n",
       "      <td>55</td>\n",
       "    </tr>\n",
       "    <tr>\n",
       "      <th>997</th>\n",
       "      <td>female</td>\n",
       "      <td>group C</td>\n",
       "      <td>high school</td>\n",
       "      <td>free/reduced</td>\n",
       "      <td>completed</td>\n",
       "      <td>71</td>\n",
       "      <td>65</td>\n",
       "    </tr>\n",
       "    <tr>\n",
       "      <th>998</th>\n",
       "      <td>female</td>\n",
       "      <td>group D</td>\n",
       "      <td>some college</td>\n",
       "      <td>standard</td>\n",
       "      <td>completed</td>\n",
       "      <td>78</td>\n",
       "      <td>77</td>\n",
       "    </tr>\n",
       "    <tr>\n",
       "      <th>999</th>\n",
       "      <td>female</td>\n",
       "      <td>group D</td>\n",
       "      <td>some college</td>\n",
       "      <td>free/reduced</td>\n",
       "      <td>none</td>\n",
       "      <td>86</td>\n",
       "      <td>86</td>\n",
       "    </tr>\n",
       "  </tbody>\n",
       "</table>\n",
       "<p>1000 rows × 7 columns</p>\n",
       "</div>"
      ],
      "text/plain": [
       "     gender race_ethnicity parental_level_of_education         lunch  \\\n",
       "0    female        group B           bachelor's degree      standard   \n",
       "1    female        group C                some college      standard   \n",
       "2    female        group B             master's degree      standard   \n",
       "3      male        group A          associate's degree  free/reduced   \n",
       "4      male        group C                some college      standard   \n",
       "..      ...            ...                         ...           ...   \n",
       "995  female        group E             master's degree      standard   \n",
       "996    male        group C                 high school  free/reduced   \n",
       "997  female        group C                 high school  free/reduced   \n",
       "998  female        group D                some college      standard   \n",
       "999  female        group D                some college  free/reduced   \n",
       "\n",
       "    test_preparation_course  reading_score  writing_score  \n",
       "0                      none             72             74  \n",
       "1                 completed             90             88  \n",
       "2                      none             95             93  \n",
       "3                      none             57             44  \n",
       "4                      none             78             75  \n",
       "..                      ...            ...            ...  \n",
       "995               completed             99             95  \n",
       "996                    none             55             55  \n",
       "997               completed             71             65  \n",
       "998               completed             78             77  \n",
       "999                    none             86             86  \n",
       "\n",
       "[1000 rows x 7 columns]"
      ]
     },
     "execution_count": 81,
     "metadata": {},
     "output_type": "execute_result"
    }
   ],
   "source": [
    "X"
   ]
  },
  {
   "cell_type": "code",
   "execution_count": 82,
   "id": "1ed9fb30",
   "metadata": {},
   "outputs": [
    {
     "data": {
      "text/plain": [
       "0      72\n",
       "1      69\n",
       "2      90\n",
       "3      47\n",
       "4      76\n",
       "       ..\n",
       "995    88\n",
       "996    62\n",
       "997    59\n",
       "998    68\n",
       "999    77\n",
       "Name: math_score, Length: 1000, dtype: int64"
      ]
     },
     "execution_count": 82,
     "metadata": {},
     "output_type": "execute_result"
    }
   ],
   "source": [
    "y"
   ]
  },
  {
   "cell_type": "code",
   "execution_count": 83,
   "id": "5fe6bf23",
   "metadata": {},
   "outputs": [],
   "source": [
    "num_features = X.select_dtypes(exclude=\"object\").columns\n",
    "cat_features = X.select_dtypes(include=\"object\").columns\n",
    "\n",
    "from sklearn.preprocessing import OneHotEncoder,StandardScaler\n",
    "from sklearn.compose import ColumnTransformer\n",
    "\n",
    "numeric_transformer =StandardScaler()\n",
    "oh_transformer = OneHotEncoder()\n",
    "\n",
    "preprocessor =ColumnTransformer(\n",
    "    [\n",
    "        (\"OneHotEncoder\",oh_transformer,cat_features),\n",
    "        (\"StandardScaler\",numeric_transformer,num_features)\n",
    "    ]\n",
    ")"
   ]
  },
  {
   "cell_type": "code",
   "execution_count": 84,
   "id": "c7443c51",
   "metadata": {},
   "outputs": [],
   "source": [
    "X=preprocessor.fit_transform(X)"
   ]
  },
  {
   "cell_type": "code",
   "execution_count": 85,
   "id": "b6dd0804",
   "metadata": {},
   "outputs": [
    {
     "data": {
      "text/plain": [
       "(1000, 19)"
      ]
     },
     "execution_count": 85,
     "metadata": {},
     "output_type": "execute_result"
    }
   ],
   "source": [
    "X.shape\n"
   ]
  },
  {
   "cell_type": "code",
   "execution_count": null,
   "id": "0eef9707",
   "metadata": {},
   "outputs": [],
   "source": [
    "\n"
   ]
  },
  {
   "cell_type": "code",
   "execution_count": 86,
   "id": "e3123754",
   "metadata": {},
   "outputs": [],
   "source": [
    "# seprate dataset into train and test \n",
    "from sklearn.model_selection import train_test_split\n",
    "X_train, X_test, y_train,y_test = train_test_split(X,y,test_size=0.2,random_state=42)"
   ]
  },
  {
   "cell_type": "code",
   "execution_count": 87,
   "id": "306cc149",
   "metadata": {},
   "outputs": [
    {
     "data": {
      "text/plain": [
       "((800, 19), (200, 19))"
      ]
     },
     "execution_count": 87,
     "metadata": {},
     "output_type": "execute_result"
    }
   ],
   "source": [
    "X_train.shape,X_test.shape"
   ]
  },
  {
   "cell_type": "markdown",
   "id": "1b5705a4",
   "metadata": {},
   "source": [
    "### Create an Evaluation Function to give all metrics after model training"
   ]
  },
  {
   "cell_type": "code",
   "execution_count": 88,
   "id": "6c3aea7d",
   "metadata": {},
   "outputs": [],
   "source": [
    "def evaluate_model(true,predicted):\n",
    "    mae = mean_absolute_error(true,predicted)\n",
    "    mse =mean_squared_error(true,predicted)\n",
    "    rmse = np.sqrt(mean_squared_error(true,predicted))\n",
    "    r2_square = r2_score(true,predicted) \n",
    "    return mae, mse, rmse, r2_square"
   ]
  },
  {
   "cell_type": "code",
   "execution_count": 89,
   "id": "6e5c0192",
   "metadata": {},
   "outputs": [
    {
     "name": "stdout",
     "output_type": "stream",
     "text": [
      "0\n",
      "LinearRegression\n",
      "Model performace of training set\n",
      "- Root mean square error: 5.3231\n",
      "- Mean square error: 28.3349\n",
      "- Mean absolute error: 4.2667\n",
      "- R2score: 0.8743\n",
      "--------------------------------------\n",
      "Model performace of training set\n",
      "- Root mean square error: 5.3940\n",
      "- Mean square error: 29.0952\n",
      "- Mean absolute error: 4.2148\n",
      "- R2score: 0.8804\n",
      "===================================\n",
      "\n",
      "\n",
      "1\n",
      "Lasso\n",
      "Model performace of training set\n",
      "- Root mean square error: 6.5938\n",
      "- Mean square error: 43.4784\n",
      "- Mean absolute error: 5.2063\n",
      "- R2score: 0.8071\n",
      "--------------------------------------\n",
      "Model performace of training set\n",
      "- Root mean square error: 6.5197\n",
      "- Mean square error: 42.5064\n",
      "- Mean absolute error: 5.1579\n",
      "- R2score: 0.8253\n",
      "===================================\n",
      "\n",
      "\n",
      "2\n",
      "Ridge\n",
      "Model performace of training set\n",
      "- Root mean square error: 5.3233\n",
      "- Mean square error: 28.3378\n",
      "- Mean absolute error: 4.2650\n",
      "- R2score: 0.8743\n",
      "--------------------------------------\n",
      "Model performace of training set\n",
      "- Root mean square error: 5.3904\n",
      "- Mean square error: 29.0563\n",
      "- Mean absolute error: 4.2111\n",
      "- R2score: 0.8806\n",
      "===================================\n",
      "\n",
      "\n",
      "3\n",
      "K-Neighbors Regressor\n",
      "Model performace of training set\n",
      "- Root mean square error: 5.7077\n",
      "- Mean square error: 32.5776\n",
      "- Mean absolute error: 4.5167\n",
      "- R2score: 0.8555\n",
      "--------------------------------------\n",
      "Model performace of training set\n",
      "- Root mean square error: 7.2530\n",
      "- Mean square error: 52.6066\n",
      "- Mean absolute error: 5.6210\n",
      "- R2score: 0.7838\n",
      "===================================\n",
      "\n",
      "\n",
      "4\n",
      "Decision Tree\n",
      "Model performace of training set\n",
      "- Root mean square error: 0.2795\n",
      "- Mean square error: 0.0781\n",
      "- Mean absolute error: 0.0187\n",
      "- R2score: 0.9997\n",
      "--------------------------------------\n",
      "Model performace of training set\n",
      "- Root mean square error: 7.9262\n",
      "- Mean square error: 62.8250\n",
      "- Mean absolute error: 6.2850\n",
      "- R2score: 0.7418\n",
      "===================================\n",
      "\n",
      "\n"
     ]
    },
    {
     "name": "stdout",
     "output_type": "stream",
     "text": [
      "5\n",
      "Random Forest \n",
      "Model performace of training set\n",
      "- Root mean square error: 2.2878\n",
      "- Mean square error: 5.2340\n",
      "- Mean absolute error: 1.8208\n",
      "- R2score: 0.9768\n",
      "--------------------------------------\n",
      "Model performace of training set\n",
      "- Root mean square error: 5.9875\n",
      "- Mean square error: 35.8500\n",
      "- Mean absolute error: 4.6645\n",
      "- R2score: 0.8527\n",
      "===================================\n",
      "\n",
      "\n",
      "6\n",
      "AdaBoost Regressor\n",
      "Model performace of training set\n",
      "- Root mean square error: 5.7487\n",
      "- Mean square error: 33.0480\n",
      "- Mean absolute error: 4.7171\n",
      "- R2score: 0.8534\n",
      "--------------------------------------\n",
      "Model performace of training set\n",
      "- Root mean square error: 6.0010\n",
      "- Mean square error: 36.0115\n",
      "- Mean absolute error: 4.6491\n",
      "- R2score: 0.8520\n",
      "===================================\n",
      "\n",
      "\n",
      "7\n",
      "XGBoost\n",
      "Model performace of training set\n",
      "- Root mean square error: 1.0073\n",
      "- Mean square error: 1.0146\n",
      "- Mean absolute error: 0.6875\n",
      "- R2score: 0.9955\n",
      "--------------------------------------\n",
      "Model performace of training set\n",
      "- Root mean square error: 6.4733\n",
      "- Mean square error: 41.9037\n",
      "- Mean absolute error: 5.0577\n",
      "- R2score: 0.8278\n",
      "===================================\n",
      "\n",
      "\n",
      "8\n",
      "CatBoost Regressor\n",
      "Model performace of training set\n",
      "- Root mean square error: 3.0427\n",
      "- Mean square error: 9.2578\n",
      "- Mean absolute error: 2.4054\n",
      "- R2score: 0.9589\n",
      "--------------------------------------\n",
      "Model performace of training set\n",
      "- Root mean square error: 6.0086\n",
      "- Mean square error: 36.1037\n",
      "- Mean absolute error: 4.6125\n",
      "- R2score: 0.8516\n",
      "===================================\n",
      "\n",
      "\n"
     ]
    }
   ],
   "source": [
    "models = {\n",
    "    \"LinearRegression\" : LinearRegression(),\n",
    "    \"Lasso\" : Lasso(),\n",
    "    \"Ridge\" :Ridge(),\n",
    "    \"K-Neighbors Regressor\" : KNeighborsRegressor(),\n",
    "    \"Decision Tree\" : DecisionTreeRegressor(),\n",
    "    \"Random Forest \" : RandomForestRegressor(),\n",
    "    \"AdaBoost Regressor\" : AdaBoostRegressor(),\n",
    "    \"XGBoost\" :XGBRegressor(),\n",
    "    \"CatBoost Regressor\" :CatBoostRegressor()\n",
    "\n",
    "}\n",
    "model_list = []\n",
    "r2_list = []\n",
    "\n",
    "for i in range(len(list(models))):\n",
    "    model = list (models.values())[i]\n",
    "    if isinstance(model, CatBoostRegressor):\n",
    "        model.fit(X_train, y_train, verbose=False)\n",
    "\n",
    "    else:\n",
    "        model.fit(X_train,y_train) #MODEL TRAINING\n",
    "\n",
    "    # Make Predictions\n",
    "    y_train_pred = model.predict(X_train)\n",
    "    y_test_pred = model.predict(X_test)\n",
    "\n",
    "    #Evaluale train and test data\n",
    "\n",
    "    model_train_mae, model_train_mse, model_train_rmse, model_train_r2 = evaluate_model(y_train,y_train_pred)\n",
    "\n",
    "    model_test_mae, model_test_mse, model_test_rmse, model_test_r2 = evaluate_model(y_test,y_test_pred)\n",
    "\n",
    "    print(i)\n",
    "\n",
    "    print(list(models.keys())[i])\n",
    "    model_list.append(list(models.keys())[i])\n",
    "\n",
    "    print('Model performace of training set')\n",
    "    print(\"- Root mean square error: {:.4f}\".format(model_train_rmse))\n",
    "    print(\"- Mean square error: {:.4f}\".format(model_train_mse))\n",
    "    print(\"- Mean absolute error: {:.4f}\".format(model_train_mae))\n",
    "    print(\"- R2score: {:.4f}\".format(model_train_r2))\n",
    "\n",
    "    print('--------------------------------------')\n",
    "\n",
    "    print('Model performace of training set')\n",
    "    print(\"- Root mean square error: {:.4f}\".format(model_test_rmse))\n",
    "    print(\"- Mean square error: {:.4f}\".format(model_test_mse))\n",
    "    print(\"- Mean absolute error: {:.4f}\".format(model_test_mae))\n",
    "    print(\"- R2score: {:.4f}\".format(model_test_r2))\n",
    "\n",
    "    r2_list.append(model_test_r2)\n",
    "\n",
    "    print('='*35)\n",
    "    print('\\n')\n",
    "\n",
    "\n"
   ]
  },
  {
   "cell_type": "markdown",
   "id": "69dab04f",
   "metadata": {},
   "source": [
    "## Results"
   ]
  },
  {
   "cell_type": "code",
   "execution_count": 90,
   "id": "09f13442",
   "metadata": {},
   "outputs": [
    {
     "data": {
      "text/html": [
       "<div>\n",
       "<style scoped>\n",
       "    .dataframe tbody tr th:only-of-type {\n",
       "        vertical-align: middle;\n",
       "    }\n",
       "\n",
       "    .dataframe tbody tr th {\n",
       "        vertical-align: top;\n",
       "    }\n",
       "\n",
       "    .dataframe thead th {\n",
       "        text-align: right;\n",
       "    }\n",
       "</style>\n",
       "<table border=\"1\" class=\"dataframe\">\n",
       "  <thead>\n",
       "    <tr style=\"text-align: right;\">\n",
       "      <th></th>\n",
       "      <th>Model Name</th>\n",
       "      <th>R2_score</th>\n",
       "    </tr>\n",
       "  </thead>\n",
       "  <tbody>\n",
       "    <tr>\n",
       "      <th>2</th>\n",
       "      <td>Ridge</td>\n",
       "      <td>0.880593</td>\n",
       "    </tr>\n",
       "    <tr>\n",
       "      <th>0</th>\n",
       "      <td>LinearRegression</td>\n",
       "      <td>0.880433</td>\n",
       "    </tr>\n",
       "    <tr>\n",
       "      <th>5</th>\n",
       "      <td>Random Forest</td>\n",
       "      <td>0.852674</td>\n",
       "    </tr>\n",
       "    <tr>\n",
       "      <th>6</th>\n",
       "      <td>AdaBoost Regressor</td>\n",
       "      <td>0.852010</td>\n",
       "    </tr>\n",
       "    <tr>\n",
       "      <th>8</th>\n",
       "      <td>CatBoost Regressor</td>\n",
       "      <td>0.851632</td>\n",
       "    </tr>\n",
       "    <tr>\n",
       "      <th>7</th>\n",
       "      <td>XGBoost</td>\n",
       "      <td>0.827797</td>\n",
       "    </tr>\n",
       "    <tr>\n",
       "      <th>1</th>\n",
       "      <td>Lasso</td>\n",
       "      <td>0.825320</td>\n",
       "    </tr>\n",
       "    <tr>\n",
       "      <th>3</th>\n",
       "      <td>K-Neighbors Regressor</td>\n",
       "      <td>0.783813</td>\n",
       "    </tr>\n",
       "    <tr>\n",
       "      <th>4</th>\n",
       "      <td>Decision Tree</td>\n",
       "      <td>0.741820</td>\n",
       "    </tr>\n",
       "  </tbody>\n",
       "</table>\n",
       "</div>"
      ],
      "text/plain": [
       "              Model Name  R2_score\n",
       "2                  Ridge  0.880593\n",
       "0       LinearRegression  0.880433\n",
       "5         Random Forest   0.852674\n",
       "6     AdaBoost Regressor  0.852010\n",
       "8     CatBoost Regressor  0.851632\n",
       "7                XGBoost  0.827797\n",
       "1                  Lasso  0.825320\n",
       "3  K-Neighbors Regressor  0.783813\n",
       "4          Decision Tree  0.741820"
      ]
     },
     "execution_count": 90,
     "metadata": {},
     "output_type": "execute_result"
    }
   ],
   "source": [
    "pd.DataFrame(list(zip(model_list,r2_list)),columns=['Model Name', 'R2_score']).sort_values(by=['R2_score'],ascending=False)\n"
   ]
  },
  {
   "cell_type": "code",
   "execution_count": 91,
   "id": "6b3a1ce5",
   "metadata": {},
   "outputs": [
    {
     "name": "stdout",
     "output_type": "stream",
     "text": [
      "Accuracy of the model is 88.04\n"
     ]
    }
   ],
   "source": [
    "\n",
    "lin_model = LinearRegression()\n",
    "\n",
    "lin_model.fit(X_train, y_train)\n",
    "y_test_pred = lin_model.predict(X_test)\n",
    "score =r2_score(y_test,y_test_pred)* 100\n",
    "print(\"Accuracy of the model is {:.2f}\".format(score))\n"
   ]
  },
  {
   "cell_type": "code",
   "execution_count": 92,
   "id": "7afa89d4",
   "metadata": {},
   "outputs": [
    {
     "data": {
      "image/png": "[encoded data removed]",
      "text/plain": [
       "<Figure size 1000x600 with 1 Axes>"
      ]
     },
     "metadata": {},
     "output_type": "display_data"
    }
   ],
   "source": [
    "\n",
    "sorted_indices = y_test.argsort()\n",
    "y_test_sorted = y_test.iloc[sorted_indices]\n",
    "y_pred_sorted = y_test_pred[sorted_indices]\n",
    "\n",
    "plt.figure(figsize=(10, 6))\n",
    "plt.plot(y_test_sorted.values, label='Actual Values', marker='o', linestyle='--', alpha=0.7)\n",
    "plt.plot(y_pred_sorted, label='Predicted Values', marker='x', linestyle='-', alpha=0.7)\n",
    "\n",
    "plt.title('Actual vs Predicted Values (Test Set)')\n",
    "plt.xlabel('Sample Index (sorted)')\n",
    "plt.ylabel('Target Value')\n",
    "plt.legend()\n",
    "plt.grid(True)\n",
    "plt.tight_layout()\n",
    "plt.show()\n"
   ]
  },
  {
   "cell_type": "code",
   "execution_count": null,
   "id": "6ff39bd9",
   "metadata": {},
   "outputs": [],
   "source": []
  }
 ],
 "metadata": {
  "kernelspec": {
   "display_name": "Python 3",
   "language": "python",
   "name": "python3"
  },
  "language_info": {
   "codemirror_mode": {
    "name": "ipython",
    "version": 3
   },
   "file_extension": ".py",
   "mimetype": "text/x-python",
   "name": "python",
   "nbconvert_exporter": "python",
   "pygments_lexer": "ipython3",
   "version": "3.11.13"
  }
 },
 "nbformat": 4,
 "nbformat_minor": 5
}
